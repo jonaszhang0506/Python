{
  "nbformat": 4,
  "nbformat_minor": 0,
  "metadata": {
    "colab": {
      "provenance": [],
      "toc_visible": true,
      "authorship_tag": "ABX9TyNvoMfSfszGJZFYZuKwcoE4",
      "include_colab_link": true
    },
    "kernelspec": {
      "name": "python3",
      "display_name": "Python 3"
    },
    "language_info": {
      "name": "python"
    }
  },
  "cells": [
    {
      "cell_type": "markdown",
      "metadata": {
        "id": "view-in-github",
        "colab_type": "text"
      },
      "source": [
        "<a href=\"https://colab.research.google.com/github/jonaszhang0506/Python/blob/main/Ebay_stock_analysis.ipynb\" target=\"_parent\"><img src=\"https://colab.research.google.com/assets/colab-badge.svg\" alt=\"Open In Colab\"/></a>"
      ]
    },
    {
      "cell_type": "code",
      "execution_count": 160,
      "metadata": {
        "id": "z-WPzp-9Cu8f"
      },
      "outputs": [],
      "source": [
        "import pandas as pd\n",
        "import numpy as np\n",
        "import yfinance as yf\n",
        "from datetime import datetime\n",
        "import matplotlib.pyplot as plt\n",
        "import seaborn as sns\n",
        "import numpy as np\n",
        "import pandas as pd\n",
        "import matplotlib.pyplot as plt\n",
        "import seaborn as sns\n",
        "import plotly.express as px\n",
        "from plotly.offline import iplot\n",
        "from plotly.subplots import make_subplots"
      ]
    },
    {
      "cell_type": "code",
      "source": [
        "amzn = yf.Ticker(\"AMZN\")"
      ],
      "metadata": {
        "id": "FjvCeiYuYl2w"
      },
      "execution_count": 161,
      "outputs": []
    },
    {
      "cell_type": "code",
      "source": [
        "end_date = datetime.now().strftime('%Y-%m-%d')\n",
        "amzn_hist = amzn.history(start='2018-01-01',end=end_date)\n",
        "print(amzn_hist)"
      ],
      "metadata": {
        "colab": {
          "base_uri": "https://localhost:8080/"
        },
        "collapsed": true,
        "id": "B-xuc1aFYs-Z",
        "outputId": "bc882172-edec-49d7-9b1b-045aba8f2598"
      },
      "execution_count": 162,
      "outputs": [
        {
          "output_type": "stream",
          "name": "stdout",
          "text": [
            "                                 Open        High         Low       Close  \\\n",
            "Date                                                                        \n",
            "2018-01-02 00:00:00-05:00   58.599998   59.500000   58.525501   59.450500   \n",
            "2018-01-03 00:00:00-05:00   59.415001   60.274502   59.415001   60.209999   \n",
            "2018-01-04 00:00:00-05:00   60.250000   60.793499   60.233002   60.479500   \n",
            "2018-01-05 00:00:00-05:00   60.875500   61.457001   60.500000   61.457001   \n",
            "2018-01-08 00:00:00-05:00   61.799999   62.653999   61.601501   62.343498   \n",
            "...                               ...         ...         ...         ...   \n",
            "2024-08-26 00:00:00-04:00  176.699997  177.470001  174.300003  175.500000   \n",
            "2024-08-27 00:00:00-04:00  174.149994  174.889999  172.250000  173.119995   \n",
            "2024-08-28 00:00:00-04:00  173.690002  173.690002  168.919998  170.800003   \n",
            "2024-08-29 00:00:00-04:00  173.220001  174.289993  170.809998  172.119995   \n",
            "2024-08-30 00:00:00-04:00  172.779999  178.899994  172.600006  178.500000   \n",
            "\n",
            "                             Volume  Dividends  Stock Splits  \n",
            "Date                                                          \n",
            "2018-01-02 00:00:00-05:00  53890000        0.0           0.0  \n",
            "2018-01-03 00:00:00-05:00  62176000        0.0           0.0  \n",
            "2018-01-04 00:00:00-05:00  60442000        0.0           0.0  \n",
            "2018-01-05 00:00:00-05:00  70894000        0.0           0.0  \n",
            "2018-01-08 00:00:00-05:00  85590000        0.0           0.0  \n",
            "...                             ...        ...           ...  \n",
            "2024-08-26 00:00:00-04:00  22366200        0.0           0.0  \n",
            "2024-08-27 00:00:00-04:00  29842000        0.0           0.0  \n",
            "2024-08-28 00:00:00-04:00  29045000        0.0           0.0  \n",
            "2024-08-29 00:00:00-04:00  26407800        0.0           0.0  \n",
            "2024-08-30 00:00:00-04:00  43377700        0.0           0.0  \n",
            "\n",
            "[1677 rows x 7 columns]\n"
          ]
        }
      ]
    },
    {
      "cell_type": "code",
      "source": [],
      "metadata": {
        "id": "8NuxCfL2uWvJ"
      },
      "execution_count": 162,
      "outputs": []
    },
    {
      "cell_type": "code",
      "source": [
        "amzn.info\n",
        "amzn_info = [amzn.info]\n",
        "df_amzn=pd.DataFrame([amzn.info])\n",
        "df_amzn"
      ],
      "metadata": {
        "id": "XQYlL7DaZHzc",
        "colab": {
          "base_uri": "https://localhost:8080/",
          "height": 165
        },
        "outputId": "4fb42ae2-f108-4e69-c7d0-976f15e0f981"
      },
      "execution_count": 163,
      "outputs": [
        {
          "output_type": "execute_result",
          "data": {
            "text/plain": [
              "                 address1     city state         zip        country  \\\n",
              "0  410 Terry Avenue North  Seattle    WA  98109-5210  United States   \n",
              "\n",
              "          phone                      website         industry  \\\n",
              "0  206 266 1000  https://www.aboutamazon.com  Internet Retail   \n",
              "\n",
              "       industryKey     industryDisp  ... returnOnEquity freeCashflow  \\\n",
              "0  internet-retail  Internet Retail  ...        0.21933  59191001088   \n",
              "\n",
              "  operatingCashflow earningsGrowth  revenueGrowth grossMargins  ebitdaMargins  \\\n",
              "0      107951996928          0.938          0.101      0.48043        0.17217   \n",
              "\n",
              "   operatingMargins  financialCurrency  trailingPegRatio  \n",
              "0           0.09915                USD            2.1641  \n",
              "\n",
              "[1 rows x 119 columns]"
            ],
            "text/html": [
              "\n",
              "  <div id=\"df-c3ce409f-5f92-427f-9ac7-de15ff5d577b\" class=\"colab-df-container\">\n",
              "    <div>\n",
              "<style scoped>\n",
              "    .dataframe tbody tr th:only-of-type {\n",
              "        vertical-align: middle;\n",
              "    }\n",
              "\n",
              "    .dataframe tbody tr th {\n",
              "        vertical-align: top;\n",
              "    }\n",
              "\n",
              "    .dataframe thead th {\n",
              "        text-align: right;\n",
              "    }\n",
              "</style>\n",
              "<table border=\"1\" class=\"dataframe\">\n",
              "  <thead>\n",
              "    <tr style=\"text-align: right;\">\n",
              "      <th></th>\n",
              "      <th>address1</th>\n",
              "      <th>city</th>\n",
              "      <th>state</th>\n",
              "      <th>zip</th>\n",
              "      <th>country</th>\n",
              "      <th>phone</th>\n",
              "      <th>website</th>\n",
              "      <th>industry</th>\n",
              "      <th>industryKey</th>\n",
              "      <th>industryDisp</th>\n",
              "      <th>...</th>\n",
              "      <th>returnOnEquity</th>\n",
              "      <th>freeCashflow</th>\n",
              "      <th>operatingCashflow</th>\n",
              "      <th>earningsGrowth</th>\n",
              "      <th>revenueGrowth</th>\n",
              "      <th>grossMargins</th>\n",
              "      <th>ebitdaMargins</th>\n",
              "      <th>operatingMargins</th>\n",
              "      <th>financialCurrency</th>\n",
              "      <th>trailingPegRatio</th>\n",
              "    </tr>\n",
              "  </thead>\n",
              "  <tbody>\n",
              "    <tr>\n",
              "      <th>0</th>\n",
              "      <td>410 Terry Avenue North</td>\n",
              "      <td>Seattle</td>\n",
              "      <td>WA</td>\n",
              "      <td>98109-5210</td>\n",
              "      <td>United States</td>\n",
              "      <td>206 266 1000</td>\n",
              "      <td>https://www.aboutamazon.com</td>\n",
              "      <td>Internet Retail</td>\n",
              "      <td>internet-retail</td>\n",
              "      <td>Internet Retail</td>\n",
              "      <td>...</td>\n",
              "      <td>0.21933</td>\n",
              "      <td>59191001088</td>\n",
              "      <td>107951996928</td>\n",
              "      <td>0.938</td>\n",
              "      <td>0.101</td>\n",
              "      <td>0.48043</td>\n",
              "      <td>0.17217</td>\n",
              "      <td>0.09915</td>\n",
              "      <td>USD</td>\n",
              "      <td>2.1641</td>\n",
              "    </tr>\n",
              "  </tbody>\n",
              "</table>\n",
              "<p>1 rows × 119 columns</p>\n",
              "</div>\n",
              "    <div class=\"colab-df-buttons\">\n",
              "\n",
              "  <div class=\"colab-df-container\">\n",
              "    <button class=\"colab-df-convert\" onclick=\"convertToInteractive('df-c3ce409f-5f92-427f-9ac7-de15ff5d577b')\"\n",
              "            title=\"Convert this dataframe to an interactive table.\"\n",
              "            style=\"display:none;\">\n",
              "\n",
              "  <svg xmlns=\"http://www.w3.org/2000/svg\" height=\"24px\" viewBox=\"0 -960 960 960\">\n",
              "    <path d=\"M120-120v-720h720v720H120Zm60-500h600v-160H180v160Zm220 220h160v-160H400v160Zm0 220h160v-160H400v160ZM180-400h160v-160H180v160Zm440 0h160v-160H620v160ZM180-180h160v-160H180v160Zm440 0h160v-160H620v160Z\"/>\n",
              "  </svg>\n",
              "    </button>\n",
              "\n",
              "  <style>\n",
              "    .colab-df-container {\n",
              "      display:flex;\n",
              "      gap: 12px;\n",
              "    }\n",
              "\n",
              "    .colab-df-convert {\n",
              "      background-color: #E8F0FE;\n",
              "      border: none;\n",
              "      border-radius: 50%;\n",
              "      cursor: pointer;\n",
              "      display: none;\n",
              "      fill: #1967D2;\n",
              "      height: 32px;\n",
              "      padding: 0 0 0 0;\n",
              "      width: 32px;\n",
              "    }\n",
              "\n",
              "    .colab-df-convert:hover {\n",
              "      background-color: #E2EBFA;\n",
              "      box-shadow: 0px 1px 2px rgba(60, 64, 67, 0.3), 0px 1px 3px 1px rgba(60, 64, 67, 0.15);\n",
              "      fill: #174EA6;\n",
              "    }\n",
              "\n",
              "    .colab-df-buttons div {\n",
              "      margin-bottom: 4px;\n",
              "    }\n",
              "\n",
              "    [theme=dark] .colab-df-convert {\n",
              "      background-color: #3B4455;\n",
              "      fill: #D2E3FC;\n",
              "    }\n",
              "\n",
              "    [theme=dark] .colab-df-convert:hover {\n",
              "      background-color: #434B5C;\n",
              "      box-shadow: 0px 1px 3px 1px rgba(0, 0, 0, 0.15);\n",
              "      filter: drop-shadow(0px 1px 2px rgba(0, 0, 0, 0.3));\n",
              "      fill: #FFFFFF;\n",
              "    }\n",
              "  </style>\n",
              "\n",
              "    <script>\n",
              "      const buttonEl =\n",
              "        document.querySelector('#df-c3ce409f-5f92-427f-9ac7-de15ff5d577b button.colab-df-convert');\n",
              "      buttonEl.style.display =\n",
              "        google.colab.kernel.accessAllowed ? 'block' : 'none';\n",
              "\n",
              "      async function convertToInteractive(key) {\n",
              "        const element = document.querySelector('#df-c3ce409f-5f92-427f-9ac7-de15ff5d577b');\n",
              "        const dataTable =\n",
              "          await google.colab.kernel.invokeFunction('convertToInteractive',\n",
              "                                                    [key], {});\n",
              "        if (!dataTable) return;\n",
              "\n",
              "        const docLinkHtml = 'Like what you see? Visit the ' +\n",
              "          '<a target=\"_blank\" href=https://colab.research.google.com/notebooks/data_table.ipynb>data table notebook</a>'\n",
              "          + ' to learn more about interactive tables.';\n",
              "        element.innerHTML = '';\n",
              "        dataTable['output_type'] = 'display_data';\n",
              "        await google.colab.output.renderOutput(dataTable, element);\n",
              "        const docLink = document.createElement('div');\n",
              "        docLink.innerHTML = docLinkHtml;\n",
              "        element.appendChild(docLink);\n",
              "      }\n",
              "    </script>\n",
              "  </div>\n",
              "\n",
              "    </div>\n",
              "  </div>\n"
            ],
            "application/vnd.google.colaboratory.intrinsic+json": {
              "type": "dataframe",
              "variable_name": "df_amzn"
            }
          },
          "metadata": {},
          "execution_count": 163
        }
      ]
    },
    {
      "cell_type": "code",
      "source": [
        "ebay=yf.Ticker(\"EBAY\")\n",
        "end_date = datetime.now().strftime('%Y-%m-%d')\n",
        "ebay_hist = ebay.history(start='2010-01-01',end=end_date)\n",
        "print(ebay_hist)"
      ],
      "metadata": {
        "colab": {
          "base_uri": "https://localhost:8080/"
        },
        "id": "SI6AcewIaVRb",
        "outputId": "4332b18f-cb6c-4bab-ad8b-1abc7ccfa5b9"
      },
      "execution_count": 164,
      "outputs": [
        {
          "output_type": "stream",
          "name": "stdout",
          "text": [
            "                                Open       High        Low      Close  \\\n",
            "Date                                                                    \n",
            "2010-01-04 00:00:00-05:00   9.058486   9.157779   9.020297   9.127227   \n",
            "2010-01-05 00:00:00-05:00   9.085221   9.127230   8.974472   9.031756   \n",
            "2010-01-06 00:00:00-05:00   9.024118   9.089041   8.951560   8.974472   \n",
            "2010-01-07 00:00:00-05:00   8.970654   8.970654   8.848448   8.871361   \n",
            "2010-01-08 00:00:00-05:00   8.856084   9.027936   8.821714   8.978290   \n",
            "...                              ...        ...        ...        ...   \n",
            "2024-08-26 00:00:00-04:00  58.668432  59.195993  58.379771  58.728157   \n",
            "2024-08-27 00:00:00-04:00  58.628619  59.574239  58.419584  59.096451   \n",
            "2024-08-28 00:00:00-04:00  58.937190  58.937190  57.414241  57.513779   \n",
            "2024-08-29 00:00:00-04:00  57.732764  59.106407  57.593410  58.329998   \n",
            "2024-08-30 00:00:00-04:00  58.529999  59.220001  58.369999  59.099998   \n",
            "\n",
            "                             Volume  Dividends  Stock Splits  \n",
            "Date                                                          \n",
            "2010-01-04 00:00:00-05:00  22511650       0.00           0.0  \n",
            "2010-01-05 00:00:00-05:00  26683193       0.00           0.0  \n",
            "2010-01-06 00:00:00-05:00  26368610       0.00           0.0  \n",
            "2010-01-07 00:00:00-05:00  25220052       0.00           0.0  \n",
            "2010-01-08 00:00:00-05:00  30484080       0.00           0.0  \n",
            "...                             ...        ...           ...  \n",
            "2024-08-26 00:00:00-04:00   3196900       0.00           0.0  \n",
            "2024-08-27 00:00:00-04:00   4134200       0.00           0.0  \n",
            "2024-08-28 00:00:00-04:00   4002800       0.00           0.0  \n",
            "2024-08-29 00:00:00-04:00   3422100       0.00           0.0  \n",
            "2024-08-30 00:00:00-04:00   5430200       0.27           0.0  \n",
            "\n",
            "[3690 rows x 7 columns]\n"
          ]
        }
      ]
    },
    {
      "cell_type": "code",
      "source": [
        "ebay_hist.reset_index(inplace=True)\n",
        "# ebay_hist.index = ebay_hist.index.normalize()\n",
        "ebay_hist.set_index('Date', inplace=True)\n",
        "ebay_hist.info()\n",
        "ebay_hist['year'] = ebay_hist['Date'].dt.year\n",
        "ebay_hist['month'] = ebay_hist['Date'].dt.month\n",
        "ebay_hist['day'] = ebay_hist['Date'].dt.day\n",
        "# data['Open Price Change'] = data['Open'].diff()\n",
        "year = ebay_hist['year']==2021\n",
        "month = ebay_hist['month']==12\n",
        "day = ebay_hist['day']==10\n",
        "ebay_hist.loc[year&month&day]\n"
      ],
      "metadata": {
        "colab": {
          "base_uri": "https://localhost:8080/",
          "height": 829
        },
        "id": "nO_NecE0vYWk",
        "outputId": "f95a43fe-c98e-4bc0-eb2a-134a3a278cad"
      },
      "execution_count": 170,
      "outputs": [
        {
          "output_type": "stream",
          "name": "stdout",
          "text": [
            "<class 'pandas.core.frame.DataFrame'>\n",
            "DatetimeIndex: 3690 entries, 2010-01-04 00:00:00-05:00 to 2024-08-30 00:00:00-04:00\n",
            "Data columns (total 8 columns):\n",
            " #   Column        Non-Null Count  Dtype  \n",
            "---  ------        --------------  -----  \n",
            " 0   index         3690 non-null   int64  \n",
            " 1   Open          3690 non-null   float64\n",
            " 2   High          3690 non-null   float64\n",
            " 3   Low           3690 non-null   float64\n",
            " 4   Close         3690 non-null   float64\n",
            " 5   Volume        3690 non-null   int64  \n",
            " 6   Dividends     3690 non-null   float64\n",
            " 7   Stock Splits  3690 non-null   float64\n",
            "dtypes: float64(6), int64(2)\n",
            "memory usage: 259.5 KB\n"
          ]
        },
        {
          "output_type": "error",
          "ename": "KeyError",
          "evalue": "'Date'",
          "traceback": [
            "\u001b[0;31m---------------------------------------------------------------------------\u001b[0m",
            "\u001b[0;31mKeyError\u001b[0m                                  Traceback (most recent call last)",
            "\u001b[0;32m/usr/local/lib/python3.10/dist-packages/pandas/core/indexes/base.py\u001b[0m in \u001b[0;36mget_loc\u001b[0;34m(self, key)\u001b[0m\n\u001b[1;32m   3790\u001b[0m         \u001b[0;32mtry\u001b[0m\u001b[0;34m:\u001b[0m\u001b[0;34m\u001b[0m\u001b[0;34m\u001b[0m\u001b[0m\n\u001b[0;32m-> 3791\u001b[0;31m             \u001b[0;32mreturn\u001b[0m \u001b[0mself\u001b[0m\u001b[0;34m.\u001b[0m\u001b[0m_engine\u001b[0m\u001b[0;34m.\u001b[0m\u001b[0mget_loc\u001b[0m\u001b[0;34m(\u001b[0m\u001b[0mcasted_key\u001b[0m\u001b[0;34m)\u001b[0m\u001b[0;34m\u001b[0m\u001b[0;34m\u001b[0m\u001b[0m\n\u001b[0m\u001b[1;32m   3792\u001b[0m         \u001b[0;32mexcept\u001b[0m \u001b[0mKeyError\u001b[0m \u001b[0;32mas\u001b[0m \u001b[0merr\u001b[0m\u001b[0;34m:\u001b[0m\u001b[0;34m\u001b[0m\u001b[0;34m\u001b[0m\u001b[0m\n",
            "\u001b[0;32mindex.pyx\u001b[0m in \u001b[0;36mpandas._libs.index.IndexEngine.get_loc\u001b[0;34m()\u001b[0m\n",
            "\u001b[0;32mindex.pyx\u001b[0m in \u001b[0;36mpandas._libs.index.IndexEngine.get_loc\u001b[0;34m()\u001b[0m\n",
            "\u001b[0;32mpandas/_libs/hashtable_class_helper.pxi\u001b[0m in \u001b[0;36mpandas._libs.hashtable.PyObjectHashTable.get_item\u001b[0;34m()\u001b[0m\n",
            "\u001b[0;32mpandas/_libs/hashtable_class_helper.pxi\u001b[0m in \u001b[0;36mpandas._libs.hashtable.PyObjectHashTable.get_item\u001b[0;34m()\u001b[0m\n",
            "\u001b[0;31mKeyError\u001b[0m: 'Date'",
            "\nThe above exception was the direct cause of the following exception:\n",
            "\u001b[0;31mKeyError\u001b[0m                                  Traceback (most recent call last)",
            "\u001b[0;32m<ipython-input-170-559b0446d77e>\u001b[0m in \u001b[0;36m<cell line: 5>\u001b[0;34m()\u001b[0m\n\u001b[1;32m      3\u001b[0m \u001b[0mebay_hist\u001b[0m\u001b[0;34m.\u001b[0m\u001b[0mset_index\u001b[0m\u001b[0;34m(\u001b[0m\u001b[0;34m'Date'\u001b[0m\u001b[0;34m,\u001b[0m \u001b[0minplace\u001b[0m\u001b[0;34m=\u001b[0m\u001b[0;32mTrue\u001b[0m\u001b[0;34m)\u001b[0m\u001b[0;34m\u001b[0m\u001b[0;34m\u001b[0m\u001b[0m\n\u001b[1;32m      4\u001b[0m \u001b[0mebay_hist\u001b[0m\u001b[0;34m.\u001b[0m\u001b[0minfo\u001b[0m\u001b[0;34m(\u001b[0m\u001b[0;34m)\u001b[0m\u001b[0;34m\u001b[0m\u001b[0;34m\u001b[0m\u001b[0m\n\u001b[0;32m----> 5\u001b[0;31m \u001b[0mebay_hist\u001b[0m\u001b[0;34m[\u001b[0m\u001b[0;34m'year'\u001b[0m\u001b[0;34m]\u001b[0m \u001b[0;34m=\u001b[0m \u001b[0mebay_hist\u001b[0m\u001b[0;34m[\u001b[0m\u001b[0;34m'Date'\u001b[0m\u001b[0;34m]\u001b[0m\u001b[0;34m.\u001b[0m\u001b[0mdt\u001b[0m\u001b[0;34m.\u001b[0m\u001b[0myear\u001b[0m\u001b[0;34m\u001b[0m\u001b[0;34m\u001b[0m\u001b[0m\n\u001b[0m\u001b[1;32m      6\u001b[0m \u001b[0mebay_hist\u001b[0m\u001b[0;34m[\u001b[0m\u001b[0;34m'month'\u001b[0m\u001b[0;34m]\u001b[0m \u001b[0;34m=\u001b[0m \u001b[0mebay_hist\u001b[0m\u001b[0;34m[\u001b[0m\u001b[0;34m'Date'\u001b[0m\u001b[0;34m]\u001b[0m\u001b[0;34m.\u001b[0m\u001b[0mdt\u001b[0m\u001b[0;34m.\u001b[0m\u001b[0mmonth\u001b[0m\u001b[0;34m\u001b[0m\u001b[0;34m\u001b[0m\u001b[0m\n\u001b[1;32m      7\u001b[0m \u001b[0mebay_hist\u001b[0m\u001b[0;34m[\u001b[0m\u001b[0;34m'day'\u001b[0m\u001b[0;34m]\u001b[0m \u001b[0;34m=\u001b[0m \u001b[0mebay_hist\u001b[0m\u001b[0;34m[\u001b[0m\u001b[0;34m'Date'\u001b[0m\u001b[0;34m]\u001b[0m\u001b[0;34m.\u001b[0m\u001b[0mdt\u001b[0m\u001b[0;34m.\u001b[0m\u001b[0mday\u001b[0m\u001b[0;34m\u001b[0m\u001b[0;34m\u001b[0m\u001b[0m\n",
            "\u001b[0;32m/usr/local/lib/python3.10/dist-packages/pandas/core/frame.py\u001b[0m in \u001b[0;36m__getitem__\u001b[0;34m(self, key)\u001b[0m\n\u001b[1;32m   3891\u001b[0m             \u001b[0;32mif\u001b[0m \u001b[0mself\u001b[0m\u001b[0;34m.\u001b[0m\u001b[0mcolumns\u001b[0m\u001b[0;34m.\u001b[0m\u001b[0mnlevels\u001b[0m \u001b[0;34m>\u001b[0m \u001b[0;36m1\u001b[0m\u001b[0;34m:\u001b[0m\u001b[0;34m\u001b[0m\u001b[0;34m\u001b[0m\u001b[0m\n\u001b[1;32m   3892\u001b[0m                 \u001b[0;32mreturn\u001b[0m \u001b[0mself\u001b[0m\u001b[0;34m.\u001b[0m\u001b[0m_getitem_multilevel\u001b[0m\u001b[0;34m(\u001b[0m\u001b[0mkey\u001b[0m\u001b[0;34m)\u001b[0m\u001b[0;34m\u001b[0m\u001b[0;34m\u001b[0m\u001b[0m\n\u001b[0;32m-> 3893\u001b[0;31m             \u001b[0mindexer\u001b[0m \u001b[0;34m=\u001b[0m \u001b[0mself\u001b[0m\u001b[0;34m.\u001b[0m\u001b[0mcolumns\u001b[0m\u001b[0;34m.\u001b[0m\u001b[0mget_loc\u001b[0m\u001b[0;34m(\u001b[0m\u001b[0mkey\u001b[0m\u001b[0;34m)\u001b[0m\u001b[0;34m\u001b[0m\u001b[0;34m\u001b[0m\u001b[0m\n\u001b[0m\u001b[1;32m   3894\u001b[0m             \u001b[0;32mif\u001b[0m \u001b[0mis_integer\u001b[0m\u001b[0;34m(\u001b[0m\u001b[0mindexer\u001b[0m\u001b[0;34m)\u001b[0m\u001b[0;34m:\u001b[0m\u001b[0;34m\u001b[0m\u001b[0;34m\u001b[0m\u001b[0m\n\u001b[1;32m   3895\u001b[0m                 \u001b[0mindexer\u001b[0m \u001b[0;34m=\u001b[0m \u001b[0;34m[\u001b[0m\u001b[0mindexer\u001b[0m\u001b[0;34m]\u001b[0m\u001b[0;34m\u001b[0m\u001b[0;34m\u001b[0m\u001b[0m\n",
            "\u001b[0;32m/usr/local/lib/python3.10/dist-packages/pandas/core/indexes/base.py\u001b[0m in \u001b[0;36mget_loc\u001b[0;34m(self, key)\u001b[0m\n\u001b[1;32m   3796\u001b[0m             ):\n\u001b[1;32m   3797\u001b[0m                 \u001b[0;32mraise\u001b[0m \u001b[0mInvalidIndexError\u001b[0m\u001b[0;34m(\u001b[0m\u001b[0mkey\u001b[0m\u001b[0;34m)\u001b[0m\u001b[0;34m\u001b[0m\u001b[0;34m\u001b[0m\u001b[0m\n\u001b[0;32m-> 3798\u001b[0;31m             \u001b[0;32mraise\u001b[0m \u001b[0mKeyError\u001b[0m\u001b[0;34m(\u001b[0m\u001b[0mkey\u001b[0m\u001b[0;34m)\u001b[0m \u001b[0;32mfrom\u001b[0m \u001b[0merr\u001b[0m\u001b[0;34m\u001b[0m\u001b[0;34m\u001b[0m\u001b[0m\n\u001b[0m\u001b[1;32m   3799\u001b[0m         \u001b[0;32mexcept\u001b[0m \u001b[0mTypeError\u001b[0m\u001b[0;34m:\u001b[0m\u001b[0;34m\u001b[0m\u001b[0;34m\u001b[0m\u001b[0m\n\u001b[1;32m   3800\u001b[0m             \u001b[0;31m# If we have a listlike key, _check_indexing_error will raise\u001b[0m\u001b[0;34m\u001b[0m\u001b[0;34m\u001b[0m\u001b[0m\n",
            "\u001b[0;31mKeyError\u001b[0m: 'Date'"
          ]
        }
      ]
    },
    {
      "cell_type": "code",
      "source": [
        "ebay_open=ebay_hist[\"Open\"]\n",
        "ebay_High=ebay_hist[\"High\"]\n",
        "ebay_Low=ebay_hist[\"Low\"]\n",
        "ebay_close=ebay_hist[\"Close\"]\n",
        "ebay_avg_roll7=ebay_close.rolling(window=7).mean()\n"
      ],
      "metadata": {
        "id": "HKnUdVl4mhfY"
      },
      "execution_count": null,
      "outputs": []
    },
    {
      "cell_type": "code",
      "source": [
        "ebay_hist['PrevClose'] = ebay_hist['Close'].shift(1)\n",
        "ebay_hist['PrevClose']\n",
        "ebay_hist"
      ],
      "metadata": {
        "id": "qKHCgeB3Vw8P"
      },
      "execution_count": null,
      "outputs": []
    },
    {
      "cell_type": "code",
      "source": [
        "ebay_hist.columns\n",
        "ebay_hist[['Open', 'High', 'Low', 'Close', 'PrevClose', 'Volume', 'Dividends', 'Stock Splits'\n",
        "      ]]\n",
        "ebay_hist['Return']=ebay_hist['Close']/ebay_hist['PrevClose']-1\n",
        "ebay_hist.describe()\n",
        "ebay_hist.to_csv('output.csv')"
      ],
      "metadata": {
        "id": "5T96b0roWf4x"
      },
      "execution_count": null,
      "outputs": []
    },
    {
      "cell_type": "markdown",
      "source": [
        "Std=0.018899\n",
        "Mean=0.000685\n"
      ],
      "metadata": {
        "id": "s1yWq9hEZFQF"
      }
    },
    {
      "cell_type": "code",
      "source": [
        "ebay_hist['Scaled_R'] = (ebay_hist['Return']-ebay_hist['Return'].mean())/ebay_hist['Return'].std()\n",
        "ebay_hist"
      ],
      "metadata": {
        "id": "JbO6qFlzZLYg"
      },
      "execution_count": null,
      "outputs": []
    },
    {
      "cell_type": "code",
      "source": [
        "bucket=ebay_hist['Scaled_R'].min()\n",
        "bucket_width=(ebay_hist['Scaled_R'].max()-ebay_hist['Scaled_R'].min())/200\n",
        "bucket_width\n",
        "df=pd.DataFrame()\n",
        "df['Bucket']={}\n",
        "df['Bucket'].astype(float)\n",
        "\n",
        "random_data = {\"Bucket\":np.random.randint(0,100,200)}\n",
        "random_data = {\"Bucket\":np.random.rand(200)}\n",
        "df['Bucket']=pd.DataFrame(random_data)\n",
        "df['Bucket']\n",
        "\n"
      ],
      "metadata": {
        "id": "rLHA_oX0ifFV"
      },
      "execution_count": null,
      "outputs": []
    },
    {
      "cell_type": "code",
      "source": [
        "ebay_hist['Scaled_R'].min()"
      ],
      "metadata": {
        "id": "kLFsdq0iBQy5"
      },
      "execution_count": null,
      "outputs": []
    },
    {
      "cell_type": "code",
      "source": [
        "bucket=ebay_hist['Scaled_R'].min()\n",
        "df['Bucket'].iloc[0]=bucket\n",
        "for i in range(0,199):\n",
        "  bucket=bucket+bucket_width\n",
        "  df['Bucket'].iloc[i+1]=bucket\n",
        "  i+=i\n",
        "df"
      ],
      "metadata": {
        "id": "6tB2TSMGcfFg"
      },
      "execution_count": null,
      "outputs": []
    },
    {
      "cell_type": "code",
      "source": [
        "data = ebay_hist['Scaled_R']\n",
        "np_data=np.array(data)\n",
        "value_counts = pd.cut(np_data, bins=200, include_lowest=True).value_counts().sort_index()\n",
        "value_counts\n",
        "np1=value_counts.to_numpy()\n",
        "df['Frequency']=np1\n",
        "ebay_hist['Close'].count()\n",
        "df['PDF']=df['Frequency']/ebay_hist['Close'].count()/(ebay_hist['Close'].max()-ebay_hist['Close'].min())/200\n",
        "# df['NORMAL']=1/SQRT(2*PI())*EXP(-0.5*G9*G9)\n",
        "df['PDF'].sum()\n",
        "# dftest\n"
      ],
      "metadata": {
        "id": "7ngW__929etJ"
      },
      "execution_count": null,
      "outputs": []
    },
    {
      "cell_type": "code",
      "source": [
        "plt.plot(df['PDF'], 'ro')\n",
        "plt.show()"
      ],
      "metadata": {
        "id": "DxGhjsf7OnKu"
      },
      "execution_count": null,
      "outputs": []
    },
    {
      "cell_type": "code",
      "source": [
        "\n",
        "df2=pd.DataFrame({'Frequency':np1})\n",
        "df2\n",
        "df['Frequency']=np1\n",
        "df"
      ],
      "metadata": {
        "id": "DUloWlas9Qst"
      },
      "execution_count": null,
      "outputs": []
    },
    {
      "cell_type": "code",
      "source": [
        "df.describe()"
      ],
      "metadata": {
        "id": "pDSDYhcMZLj0"
      },
      "execution_count": null,
      "outputs": []
    },
    {
      "cell_type": "code",
      "source": [],
      "metadata": {
        "id": "h9SmCDP_nC40"
      },
      "execution_count": null,
      "outputs": []
    },
    {
      "cell_type": "code",
      "source": [
        "ebay_hist.describe()"
      ],
      "metadata": {
        "id": "wXQK-bFvIrOe"
      },
      "execution_count": null,
      "outputs": []
    },
    {
      "cell_type": "code",
      "source": [
        "ebay_hist.isna().sum()"
      ],
      "metadata": {
        "id": "Kn9cHaQ8TRU7"
      },
      "execution_count": null,
      "outputs": []
    },
    {
      "cell_type": "code",
      "source": [
        "ebay_hist.duplicated().sum()"
      ],
      "metadata": {
        "id": "l8rVPMdfTcuw"
      },
      "execution_count": null,
      "outputs": []
    },
    {
      "cell_type": "code",
      "source": [
        "ebay_hist.info()"
      ],
      "metadata": {
        "id": "DqOUgAGoTieV"
      },
      "execution_count": null,
      "outputs": []
    },
    {
      "cell_type": "code",
      "source": [
        "pd.DatetimeIndex.to_series()"
      ],
      "metadata": {
        "id": "Qz_AvhHXT0xQ"
      },
      "execution_count": null,
      "outputs": []
    },
    {
      "cell_type": "code",
      "source": [
        "plt.plot([1, 2, 3, 4], [1, 4, 9, 16], 'ro')\n",
        "plt.axis((0, 6, 0, 20))\n",
        "plt.show()"
      ],
      "metadata": {
        "id": "6KiNMuR311xx"
      },
      "execution_count": null,
      "outputs": []
    },
    {
      "cell_type": "code",
      "source": [
        "ebay_close_mean=ebay_hist[\"Close\"].mean(axis=0)\n",
        "ebay_std_mean=ebay_hist[\"Close\"].std\n",
        "ebay_med_mean=ebay_hist[\"Close\"].median\n",
        "\n"
      ],
      "metadata": {
        "id": "fWlsk5olg3gm"
      },
      "execution_count": null,
      "outputs": []
    }
  ]
}